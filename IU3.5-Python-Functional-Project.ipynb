{
  {
   "cell_type": "markdown",
   "metadata": {},
   "source": [
    "# Python Functional Project - IU 3.5 Cookie Cats"
   ]
  },
  {
   "cell_type": "markdown",
   "metadata": {},
   "source": [
    "## Packages and setup"
   ]
  },
  {
   "cell_type": "code",
   "execution_count": 1,
   "metadata": {},
   "outputs": [],
   "source": [
    "import numpy as np\n",
    "import pandas as pd \n",
    "import seaborn as sns\n",
    "import matplotlib.pyplot as plt\n",
    "import os\n",
    "\n",
    "from scipy.stats import shapiro\n",
    "from scipy.stats import levene\n",
    "from scipy.stats import mannwhitneyu\n",
    "import scipy.stats as stats\n",
    "\n",
    "#parameter settings\n",
    "from IPython.core.interactiveshell import InteractiveShell\n",
    "InteractiveShell.ast_node_interactivity = \"all\"\n",
    "import warnings\n",
    "warnings.filterwarnings(\"ignore\")\n",
    "warnings.simplefilter(action='ignore', category=FutureWarning)"
   ]
  },
  {
   "cell_type": "markdown",
   "metadata": {},
   "source": [
    "### Reading data and initial processing"
   ]
  },
  {
   "cell_type": "code",
   "execution_count": 2,
   "metadata": {
    "scrolled": false
   },
   "outputs": [
    {
     "name": "stdout",
     "output_type": "stream",
     "text": [
      "Data types for the data set:\n"
     ]
    },
    {
     "data": {
      "text/plain": [
       "userid             int64\n",
       "version           object\n",
       "sum_gamerounds     int64\n",
       "retention_1         bool\n",
       "retention_7         bool\n",
       "dtype: object"
      ]
     },
     "execution_count": 2,
     "metadata": {},
     "output_type": "execute_result"
    },
    {
     "name": "stdout",
     "output_type": "stream",
     "text": [
      "Shape of the data i.e. no. of rows and columns\n"
     ]
    },
    {
     "data": {
      "text/plain": [
       "(90189, 5)"
      ]
     },
     "execution_count": 2,
     "metadata": {},
     "output_type": "execute_result"
    },
    {
     "name": "stdout",
     "output_type": "stream",
     "text": [
      "First 5 rows of the raw data:\n"
     ]
    },
    {
     "data": {
      "text/html": [
       "<div>\n",
       "<style scoped>\n",
       "    .dataframe tbody tr th:only-of-type {\n",
       "        vertical-align: middle;\n",
       "    }\n",
       "\n",
       "    .dataframe tbody tr th {\n",
       "        vertical-align: top;\n",
       "    }\n",
       "\n",
       "    .dataframe thead th {\n",
       "        text-align: right;\n",
       "    }\n",
       "</style>\n",
       "<table border=\"1\" class=\"dataframe\">\n",
       "  <thead>\n",
       "    <tr style=\"text-align: right;\">\n",
       "      <th></th>\n",
       "      <th>userid</th>\n",
       "      <th>version</th>\n",
       "      <th>sum_gamerounds</th>\n",
       "      <th>retention_1</th>\n",
       "      <th>retention_7</th>\n",
       "    </tr>\n",
       "  </thead>\n",
       "  <tbody>\n",
       "    <tr>\n",
       "      <th>0</th>\n",
       "      <td>116</td>\n",
       "      <td>gate_30</td>\n",
       "      <td>3</td>\n",
       "      <td>False</td>\n",
       "      <td>False</td>\n",
       "    </tr>\n",
       "    <tr>\n",
       "      <th>1</th>\n",
       "      <td>337</td>\n",
       "      <td>gate_30</td>\n",
       "      <td>38</td>\n",
       "      <td>True</td>\n",
       "      <td>False</td>\n",
       "    </tr>\n",
       "    <tr>\n",
       "      <th>2</th>\n",
       "      <td>377</td>\n",
       "      <td>gate_40</td>\n",
       "      <td>165</td>\n",
       "      <td>True</td>\n",
       "      <td>False</td>\n",
       "    </tr>\n",
       "    <tr>\n",
       "      <th>3</th>\n",
       "      <td>483</td>\n",
       "      <td>gate_40</td>\n",
       "      <td>1</td>\n",
       "      <td>False</td>\n",
       "      <td>False</td>\n",
       "    </tr>\n",
       "    <tr>\n",
       "      <th>4</th>\n",
       "      <td>488</td>\n",
       "      <td>gate_40</td>\n",
       "      <td>179</td>\n",
       "      <td>True</td>\n",
       "      <td>True</td>\n",
       "    </tr>\n",
       "  </tbody>\n",
       "</table>\n",
       "</div>"
      ],
      "text/plain": [
       "   userid  version  sum_gamerounds  retention_1  retention_7\n",
       "0     116  gate_30               3        False        False\n",
       "1     337  gate_30              38         True        False\n",
       "2     377  gate_40             165         True        False\n",
       "3     483  gate_40               1        False        False\n",
       "4     488  gate_40             179         True         True"
      ]
     },
     "execution_count": 2,
     "metadata": {},
     "output_type": "execute_result"
    }
   ],
   "source": [
    "# input files config (Change string to location of Mini_project_2_Data.xls)\n",
    "input_file=\"Mini_project_2_Data.xls\"\n",
    "\n",
    "#Read data using pandas\n",
    "user_df=pd.read_csv(input_file)\n",
    "\n",
    "#Check data types of each column using \"dtypes\" function\n",
    "print(\"Data types for the data set:\")\n",
    "user_df.dtypes\n",
    "\n",
    "#Check dimension of data i.e. # of rows and #column using pandas \"shape\" funtion\n",
    "print(\"Shape of the data i.e. no. of rows and columns\")\n",
    "user_df.shape\n",
    "\n",
    "#display first 5 rows of the data using \"head\" function\n",
    "print(\"First 5 rows of the raw data:\")\n",
    "user_df.head(5)"
   ]
  },
  {
   "cell_type": "markdown",
   "metadata": {},
   "source": [
    "<font color=blue>**Reading data and initial processing:**\n",
    "\n",
    "<font color=black>\n",
    "    \n",
    "The Cookie Cats data set consists of 90189 rows and 5 columns. The five columns correspond to the five variables of the data set as follows:\n",
    "\n",
    "1. __userid__: Unique integer that identifies each player.\n",
    "2. __version__: Categorical data that indicates the level at which a player encountered the first gate, either at level 30 (control group) or level 40 (test group).\n",
    "3. __sum_gamerounds__: Numerical data that indicates the number of game rounds played by a player during the first week after installation.\n",
    "4. __retention_1__: Boolean data that indicates if a player came back to play a day after installing the game: __true__ (came back) or __false__ (did not come back).\n",
    "5. __retention_7__: Boolean data that indicates if a player came back to play 7 days after installing the game: __true__ (came back) or __false__ (did not come back)."
   ]
  },
  {
   "cell_type": "markdown",
   "metadata": {},
   "source": [
    "## Exercise"
   ]
  },
  {
   "cell_type": "markdown",
   "metadata": {},
   "source": [
    "## Q1. Detect and resolve problems in the data (Missing value, Outliers, etc.)"
   ]
  },
  {
   "cell_type": "markdown",
   "metadata": {},
   "source": [
    "### Q1.1 Identify missing value"
   ]
  },
  {
   "cell_type": "code",
   "execution_count": 3,
   "metadata": {
    "scrolled": true
   },
   "outputs": [
    {
     "data": {
      "text/plain": [
       "userid            0\n",
       "version           0\n",
       "sum_gamerounds    0\n",
       "retention_1       0\n",
       "retention_7       0\n",
       "dtype: int64"
      ]
     },
     "execution_count": 3,
     "metadata": {},
     "output_type": "execute_result"
    },
    {
     "data": {
      "text/plain": [
       "userid            0\n",
       "version           0\n",
       "sum_gamerounds    0\n",
       "retention_1       0\n",
       "retention_7       0\n",
       "dtype: int64"
      ]
     },
     "execution_count": 3,
     "metadata": {},
     "output_type": "execute_result"
    }
   ],
   "source": [
    "#Check for any missing values in the data using isnull() function\n",
    "user_df.isna().sum()\n",
    "user_df.isnull().sum()\n",
    "\n"
   ]
  },
  {
   "cell_type": "markdown",
   "metadata": {},
   "source": [
    "<font color=blue>**Conclusion:**\n",
    "    \n",
    "<font color=black>Since all columns return 0 null values, there is no missing value in the data."
   ]
  },
  {
   "cell_type": "markdown",
   "metadata": {},
   "source": [
    "### Q1.2 Identify outliers"
   ]
  },
  {
   "cell_type": "code",
   "execution_count": 4,
   "metadata": {
    "scrolled": true
   },
   "outputs": [
    {
     "data": {
      "image/png": "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\n",
      "text/plain": [
       "<Figure size 432x288 with 1 Axes>"
      ]
     },
     "metadata": {
      "needs_background": "light"
     },
     "output_type": "display_data"
    }
   ],
   "source": [
    "#Check for outlier values in sum_gamerounds column\n",
    "\n",
    "# Function to plot a bar graph\n",
    "def plot_bar(df,X,Y,TITLE):\n",
    "    plt.title(TITLE);\n",
    "    plt.xlabel(X);\n",
    "    plt.ylabel(Y);\n",
    "    plt.plot(df)\n",
    "\n",
    "plot_bar(user_df.sum_gamerounds,\"Index\",\"sum_gamerounds\",\"Total gamerounds played\")\n"
   ]
  },
  {
   "cell_type": "markdown",
   "metadata": {},
   "source": [
    "<font color=blue>**Observations:**\n",
    "    \n",
    "<font color=black>From the graph, we identified one (1) value that is significantly higher than the others.\n",
    "Such value is clearly an outlier."
   ]
  },
  {
   "cell_type": "code",
   "execution_count": 5,
   "metadata": {
    "scrolled": true
   },
   "outputs": [
    {
     "name": "stdout",
     "output_type": "stream",
     "text": [
      "Most number of gamerounds played by a user: 49854 rounds\n",
      "\n"
     ]
    }
   ],
   "source": [
    "#Based on the plot, filter out the outlier from sum_gamerounds played; Use max() function to find the index of the outlier\n",
    "\n",
    "#user_df[user_df['sum_gamerounds']==user_df.sum_gamerounds.max()]\n",
    "print(\"Most number of gamerounds played by a user:\",user_df.sum_gamerounds.max(),\"rounds\\n\")"
   ]
  },
  {
   "cell_type": "markdown",
   "metadata": {},
   "source": [
    "<font color=blue>**Observations:**\n",
    "    \n",
    "<font color=black>The value (49,854 gamerounds in one week by a player) is an outlier as it is significantly higher than the rest.\n",
    "    We need to remove it so as not to skew our A/B test results. "
   ]
  },
  {
   "cell_type": "code",
   "execution_count": 6,
   "metadata": {},
   "outputs": [
    {
     "name": "stdout",
     "output_type": "stream",
     "text": [
      "<class 'pandas.core.frame.DataFrame'>\n",
      "Int64Index: 90188 entries, 0 to 90188\n",
      "Data columns (total 5 columns):\n",
      " #   Column          Non-Null Count  Dtype \n",
      "---  ------          --------------  ----- \n",
      " 0   userid          90188 non-null  int64 \n",
      " 1   version         90188 non-null  object\n",
      " 2   sum_gamerounds  90188 non-null  int64 \n",
      " 3   retention_1     90188 non-null  bool  \n",
      " 4   retention_7     90188 non-null  bool  \n",
      "dtypes: bool(2), int64(2), object(1)\n",
      "memory usage: 2.9+ MB\n"
     ]
    }
   ],
   "source": [
    "#This line will drop the max value, which is the outlier in this case.\n",
    "#user_df.drop(user_df.loc[user_df['sum_gamerounds']==user_df.sum_gamerounds.max()].index, inplace=True)\n",
    "\n",
    "#Specifying the value to drop will prevent dropping of max value in event of accidentally running code again.\n",
    "user_df.drop(user_df.loc[user_df['sum_gamerounds']==49854].index, inplace=True)\n",
    "\n",
    "user_df.info()"
   ]
  },
  {
   "cell_type": "markdown",
   "metadata": {},
   "source": [
    "<font color=blue>**Result:**\n",
    "    \n",
    "<font color=black> Removed the outlier, whose index number is 57,702 with value of 49,854, from the data set. The dataset now has 90,188 rows."
   ]
  },
  {
   "cell_type": "code",
   "execution_count": 7,
   "metadata": {
    "scrolled": false
   },
   "outputs": [
    {
     "data": {
      "image/png": "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\n",
      "text/plain": [
       "<Figure size 432x288 with 1 Axes>"
      ]
     },
     "metadata": {
      "needs_background": "light"
     },
     "output_type": "display_data"
    }
   ],
   "source": [
    "#Plot the graph for sum_gamerounds player after removing the outlier\n",
    "\n",
    "plot_bar(user_df.sum_gamerounds,\"Index\",\"sum_gamerounds\",\"Total gamerounds played\")"
   ]
  },
  {
   "cell_type": "markdown",
   "metadata": {},
   "source": [
    "<font color=blue>**Conclusion:**\n",
    "    \n",
    "<font color=black>After data preparation (ensuring no missing value and cleaning the dataset), ready to perform A/B test. \n",
    "    "
   ]
  },
  {
   "cell_type": "markdown",
   "metadata": {},
   "source": [
    "## Q2. Plot summary statistics and identify trends to answer basic business questions"
   ]
  },
  {
   "cell_type": "markdown",
   "metadata": {},
   "source": [
    "### Q2.1 What is the overall 7-day retention rate of the game?"
   ]
  },
  {
   "cell_type": "code",
   "execution_count": 8,
   "metadata": {},
   "outputs": [
    {
     "name": "stdout",
     "output_type": "stream",
     "text": [
      "Number of players that played seven days after installing: 16780\n",
      "Total number of players: 90188\n",
      "\n",
      "Therefore, the overall 7-day retention rate of the game for both versions is 18.6056 %\n"
     ]
    }
   ],
   "source": [
    "#Insert calculation for 7-day retention rate\n",
    "\n",
    "# getting the sum and count of the values of rentention_7\n",
    "print(\"Number of players that played seven days after installing:\",user_df['retention_7'].sum())\n",
    "print(\"Total number of players:\",user_df['retention_7'].count())\n",
    "\n",
    "\n",
    "retention_rate_7=(user_df['retention_7'].sum()/user_df['retention_7'].count())*100\n",
    "print(\"\\nTherefore, the overall 7-day retention rate of the game for both versions is\" ,'%.4f'%retention_rate_7,\"%\")\n"
   ]
  },
  {
   "cell_type": "markdown",
   "metadata": {},
   "source": [
    "### Q2.2 How many players never played the game after installing? "
   ]
  },
  {
   "cell_type": "code",
   "execution_count": 9,
   "metadata": {},
   "outputs": [
    {
     "data": {
      "text/plain": [
       "userid            3994\n",
       "version           3994\n",
       "sum_gamerounds    3994\n",
       "retention_1       3994\n",
       "retention_7       3994\n",
       "dtype: int64"
      ]
     },
     "execution_count": 9,
     "metadata": {},
     "output_type": "execute_result"
    },
    {
     "name": "stdout",
     "output_type": "stream",
     "text": [
      "There are 3994 users that never played the game after installing.\n"
     ]
    }
   ],
   "source": [
    "# Find number of customers with sum_gamerounds is equal to zero\n",
    "\n",
    "user_df.loc[user_df['sum_gamerounds']==0].count()\n",
    "\n",
    "print('There are',user_df.loc[user_df['sum_gamerounds']==0].count()['userid'],'users that never played the game after installing.')"
   ]
  },
  {
   "cell_type": "markdown",
   "metadata": {},
   "source": [
    "### Q2.3 Does the number of users decrease as the level progresses highlighting the difficulty of the game?"
   ]
  },
  {
   "cell_type": "code",
   "execution_count": 10,
   "metadata": {},
   "outputs": [
    {
     "name": "stdout",
     "output_type": "stream",
     "text": [
      "There are 84966 players that played 200 gamerounds or fewer in a week.\n"
     ]
    },
    {
     "data": {
      "image/png": "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\n",
      "text/plain": [
       "<Figure size 432x288 with 1 Axes>"
      ]
     },
     "metadata": {
      "needs_background": "light"
     },
     "output_type": "display_data"
    }
   ],
   "source": [
    "#Group by sum_gamerounds and count the number of users for the first 200 gamerounds\n",
    "#Use plot() function on the summarized stats to visualize the chart\n",
    "\n",
    "#glt200=df_gameround_groups.apply(lambda g: g[g['sum_gamerounds']<=200])\n",
    "\n",
    "#filtering groups that played 200 gamerounds or less, then grouping them using groupby .\n",
    "df_gameround_groups = user_df.loc[user_df['sum_gamerounds']<=200].groupby('sum_gamerounds')\n",
    "\n",
    "print('There are',df_gameround_groups.userid.count().sum(),'players that played 200 gamerounds or fewer in a week.')\n",
    "\n",
    "#plot the count of users who played 200 gamerounds or less\n",
    "ax = df_gameround_groups.count()['userid'].plot(x='sum_gamerounds', y='userid')\n",
    "ax.set_xlabel(\"Total Game Rounds\");\n",
    "ax.set_ylabel(\"Number of Players\");\n",
    "ax.set_title(\"Number of Players by Gamerounds played in a week\");\n"
   ]
  },
  {
   "cell_type": "markdown",
   "metadata": {},
   "source": [
    "<font color=blue>**Conclusion:**\n",
    "    \n",
    "<font color=black>\n",
    "\n",
    "- There are a total of **84,966** players who played only 200 gamerounds or fewer in one week.\n",
    "- From the graph, we observe that the number of players decreases as the level progresses. \n",
    "    - This could suggest an increase in game difficulty or loss of players' interest."
   ]
  },
  {
   "cell_type": "markdown",
   "metadata": {},
   "source": [
    "## Q3. Generate crosstab for two groups of players to understand if there is a difference in 1-day and 7-days retention rate & total number of game rounds played"
   ]
  },
  {
   "cell_type": "markdown",
   "metadata": {},
   "source": [
    "### Q3.1 1-day and 7-days retention rate summary for different game versions"
   ]
  },
  {
   "cell_type": "code",
   "execution_count": 11,
   "metadata": {},
   "outputs": [
    {
     "data": {
      "text/html": [
       "<div>\n",
       "<style scoped>\n",
       "    .dataframe tbody tr th:only-of-type {\n",
       "        vertical-align: middle;\n",
       "    }\n",
       "\n",
       "    .dataframe tbody tr th {\n",
       "        vertical-align: top;\n",
       "    }\n",
       "\n",
       "    .dataframe thead th {\n",
       "        text-align: right;\n",
       "    }\n",
       "</style>\n",
       "<table border=\"1\" class=\"dataframe\">\n",
       "  <thead>\n",
       "    <tr style=\"text-align: right;\">\n",
       "      <th>retention_1</th>\n",
       "      <th>False</th>\n",
       "      <th>True</th>\n",
       "    </tr>\n",
       "    <tr>\n",
       "      <th>version</th>\n",
       "      <th></th>\n",
       "      <th></th>\n",
       "    </tr>\n",
       "  </thead>\n",
       "  <tbody>\n",
       "    <tr>\n",
       "      <th>gate_30</th>\n",
       "      <td>0.551802</td>\n",
       "      <td>0.448198</td>\n",
       "    </tr>\n",
       "    <tr>\n",
       "      <th>gate_40</th>\n",
       "      <td>0.557717</td>\n",
       "      <td>0.442283</td>\n",
       "    </tr>\n",
       "  </tbody>\n",
       "</table>\n",
       "</div>"
      ],
      "text/plain": [
       "retention_1     False     True \n",
       "version                        \n",
       "gate_30      0.551802  0.448198\n",
       "gate_40      0.557717  0.442283"
      ]
     },
     "execution_count": 11,
     "metadata": {},
     "output_type": "execute_result"
    },
    {
     "data": {
      "text/html": [
       "<div>\n",
       "<style scoped>\n",
       "    .dataframe tbody tr th:only-of-type {\n",
       "        vertical-align: middle;\n",
       "    }\n",
       "\n",
       "    .dataframe tbody tr th {\n",
       "        vertical-align: top;\n",
       "    }\n",
       "\n",
       "    .dataframe thead th {\n",
       "        text-align: right;\n",
       "    }\n",
       "</style>\n",
       "<table border=\"1\" class=\"dataframe\">\n",
       "  <thead>\n",
       "    <tr style=\"text-align: right;\">\n",
       "      <th>retention_7</th>\n",
       "      <th>False</th>\n",
       "      <th>True</th>\n",
       "    </tr>\n",
       "    <tr>\n",
       "      <th>version</th>\n",
       "      <th></th>\n",
       "      <th></th>\n",
       "    </tr>\n",
       "  </thead>\n",
       "  <tbody>\n",
       "    <tr>\n",
       "      <th>gate_30</th>\n",
       "      <td>0.809817</td>\n",
       "      <td>0.190183</td>\n",
       "    </tr>\n",
       "    <tr>\n",
       "      <th>gate_40</th>\n",
       "      <td>0.818000</td>\n",
       "      <td>0.182000</td>\n",
       "    </tr>\n",
       "  </tbody>\n",
       "</table>\n",
       "</div>"
      ],
      "text/plain": [
       "retention_7     False     True \n",
       "version                        \n",
       "gate_30      0.809817  0.190183\n",
       "gate_40      0.818000  0.182000"
      ]
     },
     "execution_count": 11,
     "metadata": {},
     "output_type": "execute_result"
    }
   ],
   "source": [
    "#Create cross tab for game version and retention_1 flag counting number of users for each possible categories\n",
    "\n",
    "pd.crosstab(user_df.version, user_df.retention_1).apply(lambda r: r/r.sum(), axis=1)\n",
    "\n",
    "#Create cross tab for game version and retention_7 flag counting number of users for each possible categories\n",
    "\n",
    "pd.crosstab(user_df.version, user_df.retention_7).apply(lambda r: r/r.sum(), axis=1)"
   ]
  },
  {
   "cell_type": "markdown",
   "metadata": {},
   "source": [
    "<font color=blue>**Analysis Results:**\n",
    "    \n",
    "<font color=black> The CEO hypothesized that moving the first gate from level 30 to level 40 would increase the retention rate, but our preliminary result shows this is not the case. Our result is as follows: \n",
    "    \n",
    "- The 1-day retention rate is higher at gate_30 compared to gate_40 (0.448 and 0.442, respectively).\n",
    "- The 7-days retention rate is higher at gate_30 compared to gate_40 (0.190 and 0.182, respectively).\n",
    "    \n",
    "Despite the small differences in 1-day and 7-day retention rates, given that retention rate is one of the most important metrics when deciding the success of the games, we would further investigate the statistical significance and stability of the finding."
   ]
  },
  {
   "cell_type": "markdown",
   "metadata": {},
   "source": [
    "### Q3.2 Gamerounds summary for different game versions"
   ]
  },
  {
   "cell_type": "code",
   "execution_count": 12,
   "metadata": {},
   "outputs": [
    {
     "data": {
      "text/plain": [
       "version\n",
       "gate_30    51.342111\n",
       "gate_40    51.298776\n",
       "Name: sum_gamerounds, dtype: float64"
      ]
     },
     "execution_count": 12,
     "metadata": {},
     "output_type": "execute_result"
    }
   ],
   "source": [
    "#use pandas group by to calculate average game rounds played summarized by different versions\n",
    "\n",
    "user_df.groupby(['version'])['sum_gamerounds'].agg('mean')\n"
   ]
  },
  {
   "cell_type": "markdown",
   "metadata": {},
   "source": [
    "<font color=blue>**Analysis Results:**\n",
    "    \n",
    "<font color=black>The CEO hypothesized that players with the gate at level 40 would have played more gamerounds than those with the gate at level 30.  \n",
    "    \n",
    "We found that the reverse is true. The average number of gamerounds played for the control gate_30 (51.34 rounds per player) is higher than that for the tested gate_40 (51.30 rounds per player). However, the difference is so small that it warrants further tests for its statistical significance. \n",
    "    \n"
   ]
  },
  {
   "cell_type": "markdown",
   "metadata": {},
   "source": [
    "## Q4. Perform two-sample test for groups A and B to test statistical significance amongst the groups in the sum of game rounds played i.e., if groups A and B are statistically different"
   ]
  },
  {
   "cell_type": "markdown",
   "metadata": {},
   "source": [
    "### Initial data processing"
   ]
  },
  {
   "cell_type": "code",
   "execution_count": 13,
   "metadata": {},
   "outputs": [],
   "source": [
    "#Define A/B groups for hypothesis testing\n",
    "# user_df[\"version\"] = np.where(user_df.version == \"gate_30\", \"A\", \"B\")\n",
    "group30=pd.DataFrame(user_df[user_df.version==\"gate_30\"]['sum_gamerounds'])\n",
    "group40=pd.DataFrame(user_df[user_df.version==\"gate_40\"]['sum_gamerounds'])\n"
   ]
  },
  {
   "cell_type": "markdown",
   "metadata": {},
   "source": [
    "### Q4.1 Shapiro test of Normality"
   ]
  },
  {
   "cell_type": "code",
   "execution_count": 14,
   "metadata": {},
   "outputs": [
    {
     "name": "stdout",
     "output_type": "stream",
     "text": [
      "Shapiro test result for Gate_30: statistic = 0.489, p-value = 0.000\n",
      "Since the p-value of the test (0.000) for gate_30 is less than α= 0.05, we reject the null hypothesis of the test.\n",
      "We accept the alternative hypothesis that the distribution of gate_30 is not normal.\n",
      "\n",
      "Shapiro test result for Gate_40: statistic = 0.483, p-value = 0.000\n",
      "Since the p-value of the test (0.000) for gate_40 is less than α= 0.05, we reject the null hypothesis of the test.\n",
      "We accept the alternative hypothesis that the distribution of gate_40 is not normal.\n"
     ]
    }
   ],
   "source": [
    "#---------------------- Shapiro Test ----------------------\n",
    "# NULL Hypothesis H0: Distribution is normal\n",
    "# ALTERNATE Hypothesis H1: Distribution is not normal    \n",
    "\n",
    "#test for group30's gamerounds played\n",
    "\n",
    "# normality test\n",
    "stat, p = stats.shapiro(group30['sum_gamerounds'])\n",
    "print('Shapiro test result for Gate_30: statistic = %.3f, p-value = %.3f' % (stat, p))\n",
    "\n",
    "# Employing an alpha of 0.05, we compare the p-value found to interpret.\n",
    "alpha = 0.05\n",
    "\n",
    "if p > alpha:\n",
    "    print('Since the p-value of the test (%.3f) for gate_30 is greater than \\u03B1= %.2f, we fail to reject the null hypothesis of the test.' % (p,alpha))\n",
    "else:\n",
    "    print('Since the p-value of the test (%.3f) for gate_30 is less than \\u03B1= %.2f, we reject the null hypothesis of the test.\\nWe accept the alternative hypothesis that the distribution of gate_30 is not normal.' % (p/2,alpha))\n",
    "    \n",
    "#test for group40's gamerounds played\n",
    "stat, p = stats.shapiro(group40['sum_gamerounds'])\n",
    "print('\\nShapiro test result for Gate_40: statistic = %.3f, p-value = %.3f' % (stat, p))\n",
    "if p > alpha:\n",
    "    print('Since the p-value of the test (%.3f) for gate_40 is greater than \\u03B1= %.2f, we fail to reject the null hypothesis of the test.' % (p,alpha))\n",
    "else:\n",
    "    print('Since the p-value of the test (%.3f) for gate_40 is less than \\u03B1= %.2f, we reject the null hypothesis of the test.\\nWe accept the alternative hypothesis that the distribution of gate_40 is not normal.' % (p/2,alpha))\n",
    "    "
   ]
  },
  {
   "cell_type": "markdown",
   "metadata": {},
   "source": [
    "### <font color=blue>__Analysis Results:__\n",
    "    \n",
    "<font color=black><br>The Shapiro test of normality for both Groups A and B shows that the p-value is less than alpha of 0.05. Therefore, we reject the null hypothesis <br>and conclude that both groups are not normally distributed for significance at the 5 percent level."
   ]
  },
  {
   "cell_type": "markdown",
   "metadata": {},
   "source": [
    "### Q4.2 Test of homegienity of variance"
   ]
  },
  {
   "cell_type": "code",
   "execution_count": 15,
   "metadata": {},
   "outputs": [
    {
     "name": "stdout",
     "output_type": "stream",
     "text": [
      "Levene's Test Result: statistic = 0.075, p-value = 0.784 \n",
      "\n",
      "Since the p-value of the Levene test is greater than α= 0.05, we fail to reject the null hypothesis and\n",
      "conclude that there is homogeneity of variance.\n"
     ]
    }
   ],
   "source": [
    "#---------------------- Levene's Test ----------------------\n",
    "# NULL Hypothesis H0: Two groups have equal variances\n",
    "# ALTERNATE Hypothesis H1: Two groups do not have equal variances\n",
    "\n",
    "#perform levene's test and accept or reject the null hypothesis based on the results\n",
    "stat, p = levene(group30['sum_gamerounds'], group40['sum_gamerounds'])\n",
    "\n",
    "print('Levene\\'s Test Result: statistic = %.3f, p-value = %.3f \\n' % (stat, p))\n",
    "\n",
    "# Employing an alpha of 0.05, we compare the p-value found to interpret.\n",
    "alpha = 0.05\n",
    "\n",
    "if p > alpha:\n",
    "    print('Since the p-value of the Levene test is greater than \\u03B1= 0.05, we fail to reject the null hypothesis and\\nconclude that there is homogeneity of variance.')\n",
    "else:\n",
    "    print('Since the p-value of the Levene Test is less than \\u03B1= 0.05, we reject the null hypothesis of the test and\\nconclude that there is no homogeneity of variance.')\n",
    "    "
   ]
  },
  {
   "cell_type": "markdown",
   "metadata": {},
   "source": [
    "### <font color=blue>__Analysis Results:__\n",
    "<font color=black><br>The Levene test for equality of variances for both Groups A and B shows that the p-value is greater than alpha of 0.05. Therefore, we fail to reject the null hypothesis and conclude that both groups have equal variances for significance at the 5 percent level.\n",
    "    <br>"
   ]
  },
  {
   "cell_type": "markdown",
   "metadata": {},
   "source": [
    "### Q4.3 Test of significance: Two sample test"
   ]
  },
  {
   "cell_type": "code",
   "execution_count": 16,
   "metadata": {},
   "outputs": [
    {
     "name": "stdout",
     "output_type": "stream",
     "text": [
      "U-statistic: 1009027049.5\n",
      "p-value: 0.025\n",
      "\n",
      "Since the p-value of the test (0.025) is less than α=(0.05), we reject the null hypothesis and\n",
      "conclude that the two groups have statistically different distributions.\n"
     ]
    }
   ],
   "source": [
    "#---------------------- Two samples test ----------------------\n",
    "# NULL Hypothesis H0: Two samples are equal\n",
    "# ALTERNATE Hypothesis H1: Two samples are different\n",
    "\n",
    "#Apply relevant two sample test to accept or reject the NULL hypothesis\n",
    "\n",
    "# Since the two distributions are not normal, however with same form and dispersion (homoscedastic), \n",
    "# employ the Mann-Whitney U test to test the equality of the distribution of the two groups.\n",
    "# Source: https://docs.scipy.org/doc/scipy/reference/generated/scipy.stats.mannwhitneyu.html\n",
    "\n",
    "stat,p = mannwhitneyu(x=group30['sum_gamerounds'], y=group40['sum_gamerounds'])\n",
    "\n",
    "# Employing an alpha of 0.05, to compare the p-value found to interpret.\n",
    "alpha = 0.05\n",
    "\n",
    "print(\"U-statistic: \" + str(stat))\n",
    "print(\"p-value: \" + str('%.3f'%p))\n",
    "\n",
    "if p > alpha:\n",
    "    print('\\nSince the p-value of the test (%.3f) is greater than \\u03B1=(%.2f), we fail to reject the null hypothesis and\\nconclude that the two groups do not have statistically different distribution.' % (p,alpha))\n",
    "else:\n",
    "    print('\\nSince the p-value of the test (%.3f) is less than \\u03B1=(%.2f), we reject the null hypothesis and\\nconclude that the two groups have statistically different distributions.' % (p,alpha))\n"
   ]
  },
  {
   "cell_type": "markdown",
   "metadata": {},
   "source": [
    "### <font color=blue>**Analysis Results:**<font color=black>\n",
    "    \n",
    "Since the two groups are both homoscedastic and non-normal, employed the **Mann-Whitney U test**, which is a nonparametric test to determine if the distributions underlying the two samples (or groups) are statistically different.\n",
    "    \n",
    "The Mann-Whitney U test for both Groups A and B shows that the p-value is less than alpha of 0.05. Therefore, we reject the null hypothesis and conclude that the two groups have statistically different distributions for significance at the 5 percent level.\n",
    "    \n",
    "Source: https://docs.scipy.org/doc/scipy/reference/generated/scipy.stats.mannwhitneyu.html\n",
    "    \n",
    "    "
   ]
  },
  {
   "cell_type": "markdown",
   "metadata": {},
   "source": [
    "## Q5. Based on significance testing results, if groups A and B are statistically different, which level has more advantage in terms of player retention and number of game rounds played"
   ]
  },
  {
   "cell_type": "code",
   "execution_count": 17,
   "metadata": {},
   "outputs": [
    {
     "data": {
      "text/html": [
       "<div>\n",
       "<style scoped>\n",
       "    .dataframe tbody tr th:only-of-type {\n",
       "        vertical-align: middle;\n",
       "    }\n",
       "\n",
       "    .dataframe tbody tr th {\n",
       "        vertical-align: top;\n",
       "    }\n",
       "\n",
       "    .dataframe thead tr th {\n",
       "        text-align: left;\n",
       "    }\n",
       "\n",
       "    .dataframe thead tr:last-of-type th {\n",
       "        text-align: right;\n",
       "    }\n",
       "</style>\n",
       "<table border=\"1\" class=\"dataframe\">\n",
       "  <thead>\n",
       "    <tr>\n",
       "      <th></th>\n",
       "      <th>userid</th>\n",
       "      <th colspan=\"2\" halign=\"left\">sum_gamerounds</th>\n",
       "      <th>retention_1</th>\n",
       "      <th>retention_7</th>\n",
       "    </tr>\n",
       "    <tr>\n",
       "      <th></th>\n",
       "      <th>count</th>\n",
       "      <th>sum</th>\n",
       "      <th>mean</th>\n",
       "      <th>mean</th>\n",
       "      <th>mean</th>\n",
       "    </tr>\n",
       "    <tr>\n",
       "      <th>version</th>\n",
       "      <th></th>\n",
       "      <th></th>\n",
       "      <th></th>\n",
       "      <th></th>\n",
       "      <th></th>\n",
       "    </tr>\n",
       "  </thead>\n",
       "  <tbody>\n",
       "    <tr>\n",
       "      <th>gate_30</th>\n",
       "      <td>44699</td>\n",
       "      <td>2294941</td>\n",
       "      <td>51.342111</td>\n",
       "      <td>0.448198</td>\n",
       "      <td>0.190183</td>\n",
       "    </tr>\n",
       "    <tr>\n",
       "      <th>gate_40</th>\n",
       "      <td>45489</td>\n",
       "      <td>2333530</td>\n",
       "      <td>51.298776</td>\n",
       "      <td>0.442283</td>\n",
       "      <td>0.182000</td>\n",
       "    </tr>\n",
       "  </tbody>\n",
       "</table>\n",
       "</div>"
      ],
      "text/plain": [
       "        userid sum_gamerounds            retention_1 retention_7\n",
       "         count            sum       mean        mean        mean\n",
       "version                                                         \n",
       "gate_30  44699        2294941  51.342111    0.448198    0.190183\n",
       "gate_40  45489        2333530  51.298776    0.442283    0.182000"
      ]
     },
     "metadata": {},
     "output_type": "display_data"
    }
   ],
   "source": [
    "#Analyze the 1 day and 7 days retention rate for two different groups using group by function\n",
    "\n",
    "# Create a table to aggregate the values of retention rate in the table grouped by the version\n",
    "display(user_df.groupby('version').agg({'userid':'count',\"sum_gamerounds\":['sum','mean'],\"retention_1\":\"mean\",\"retention_7\":\"mean\"}))\n"
   ]
  },
  {
   "cell_type": "markdown",
   "metadata": {},
   "source": [
    "### <font color=blue>**Analysis Results**<font color=black>\n",
    "**Summary**\n",
    "\n",
    "The Company CEO hypothesized that moving the first gate from level 30 to level 40 would increase the retention rate and the number of gamerounds played. After concluding that the two groups (Group A/ *level 30*  and  Group B/ *level 40*) are statistically different using the 5 percent level of significance, our AB-test results, however, suggest the reverse is true. ***The first gate at level 30 has more advantage than at level 40***, for the following reasons:\n",
    "1. The 1-day and 7-day player retention rates are higher when the gate is at level 30 compared to level 40.\n",
    "2. The average game rounds played is also slightly higher when the gate is at level 30 compared to level 40.\n",
    "\n",
    "       \n",
    "**Recommendation** \n",
    "    \n",
    "We strongly recommend that the company keep the gate at level 30, instead of moving it to level 40. The following summary of data for over 90,000 players, who installed the game while the AB-test was running, supported our recommendation:  \n",
    "- Player retention after 1 day:\n",
    "    - Level 30: 44.8%\n",
    "    - Level 40: 44.2%\n",
    "- Player retention after 7 days:\n",
    "    - Level 30: 19.0%\n",
    "    - Level 40: 18.2%\n",
    "- Average game rounds played:\n",
    "    - Level 30: 51.34\n",
    "    - Level 40: 51.30"
   ]
  },
  {
   "cell_type": "markdown",
   "metadata": {},
   "source": [
    "## Q6. [Bonus Question]  Using bootstrap resampling, plot the retention rate distribution for both the groups inorder to visualize effect of different version of the game on retention."
   ]
  },
  {
   "cell_type": "code",
   "execution_count": 18,
   "metadata": {},
   "outputs": [
    {
     "data": {
      "image/png": "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\n",
      "text/plain": [
       "<Figure size 1080x432 with 2 Axes>"
      ]
     },
     "metadata": {
      "needs_background": "light"
     },
     "output_type": "display_data"
    }
   ],
   "source": [
    "# creating the lists of bootstrapped means for each group\n",
    "density_1d = []\n",
    "density_7d = []\n",
    "\n",
    "# Decision to put 1000 iterations as this will provide a reasonable base of results to draw conclusions\n",
    "iterations = 1000\n",
    "\n",
    "# This function will create 1000 samples of our data seperated by versions.\n",
    "# We are interested to find out the mean of the retention rates per sample.\n",
    "# This will create a list of 1000 samples of means of the retention rates.\n",
    "for i in range(iterations):\n",
    "    density_1d.append(user_df.sample(frac=1, replace=True).groupby(by='version')['retention_1'].mean())\n",
    "    density_7d.append(user_df.sample(frac=1, replace=True).groupby(by='version')['retention_7'].mean())\n",
    "\n",
    "#convert lists to dataframe for manipulation purposes\n",
    "density_1d = pd.DataFrame(density_1d)\n",
    "density_7d = pd.DataFrame(density_7d)\n",
    "\n",
    "#create sub plots for side by side viewing\n",
    "fig,(ax1,ax2) = plt.subplots(1,2, figsize=(15,6))\n",
    "\n",
    "#kernel density estimate plot to compare distributions after bootstrap resampling\n",
    "ax1 = density_1d.plot.kde(ax=ax1)\n",
    "ax1.set_xlabel(\"The Rate of 1-Day Retention\");\n",
    "ax1.set_title(\"The Rate of 1-Day Retention for each group\");\n",
    "\n",
    "ax2 = density_7d.plot.kde(ax=ax2)\n",
    "ax2.set_xlabel(\"The Rate of 7-Day Retention\");\n",
    "ax2.set_title(\"The Rate of 7-Day Retention for each group\");\n"
   ]
  },
  {
   "cell_type": "markdown",
   "metadata": {},
   "source": [
    "### <font color=blue>Initial analysis\n",
    "From the first figure on the left above, we observe that there are differences between the 1 day retention rates of the two AB groups. This suggests that there is some underlying uncertainty in the retention numbers.\n",
    "\n",
    "This is similarly observed in the second diagram which shows the variation between the two AB groups. This warrants a deeper investigation."
   ]
  },
  {
   "cell_type": "markdown",
   "metadata": {},
   "source": [
    "### <font color=blue>In depth investigation \n",
    "To investigate, we need to calculate the magnitude of the difference in retention rates between versions. \n",
    "\n",
    "For that, we create an additional column to calculate the differences in the retention rate for each version.\n",
    "\n",
    "From all our work and analysis above, we know that there is a high chance that retention rate is higher at gate_30 compared to gate_40. However, we are interested to know how often and statistically how likely it is for users at gate_30 to be retained, compared to users at gate_40.\n",
    "\n",
    "To do that we calculate the percentage difference between the mean of the retention rate at gate_30 and the retention rate at gate_40. What we are interested in is when the value is more than 0. As it means that the mean at gate_30 is higher than that of those at gate_40.\n",
    "\n",
    "Then we calculate the probability of when the value is more than 0."
   ]
  },
  {
   "cell_type": "code",
   "execution_count": 19,
   "metadata": {},
   "outputs": [
    {
     "data": {
      "image/png": "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\n",
      "text/plain": [
       "<Figure size 1080x432 with 2 Axes>"
      ]
     },
     "metadata": {
      "needs_background": "light"
     },
     "output_type": "display_data"
    }
   ],
   "source": [
    "# To investigate, we create an additional column to calculate the differences in the retention rate within versions\n",
    "# This will allow us to find out if there are more users retained within gate_30 compared to gate_40\n",
    "# The formula is to find out by how many percent the retention rate at gate_30 is higher than gate_40 \n",
    "density_1d['diff'] = ((density_1d['gate_30'] - density_1d['gate_40'])/density_1d['gate_40']*100)\n",
    "density_7d['diff'] = ((density_7d['gate_30'] - density_7d['gate_40'])/density_7d['gate_40']*100)\n",
    "\n",
    "#creating sub plots for side by side viewing\n",
    "fig,(ax1,ax2) = plt.subplots(1,2, figsize=(15,6))\n",
    "\n",
    "#kernel density estimate plot\n",
    "ax = density_1d['diff'].plot.kde(ax=ax1)\n",
    "ax.set_title(\"Percentage Difference between gate_30 and gate_40 \\nfor 1-Day Retention by AB-group \");\n",
    "ax.set_xlabel(\"% Difference between gate_30 and gate_40\");\n",
    "\n",
    "ax = density_7d['diff'].plot.kde(ax=ax2)\n",
    "ax.set_title(\"Percentage Difference between gate_30 and gate_40 \\nfor 7-Day Retention by AB-group \");\n",
    "ax.set_xlabel(\"% Difference between gate_30 and gate_40\");\n",
    "\n",
    "# Creating a vertical line to show the point where means of gate_30 is higher than gate_40\n",
    "ax1.axvline(x=0, color='red', linestyle='dashed', linewidth=2);\n",
    "ax2.axvline(x=0, color='red', linestyle='dashed', linewidth=2);\n"
   ]
  },
  {
   "cell_type": "code",
   "execution_count": 20,
   "metadata": {
    "scrolled": true
   },
   "outputs": [
    {
     "name": "stdout",
     "output_type": "stream",
     "text": [
      "The probability that the 1-day retention rate is greater when the gate is at level 30 is 95.7%.\n",
      "The probability that the 7-days retention rate is greater when the gate is at level 30 is 99.9%.\n"
     ]
    }
   ],
   "source": [
    "#Find the percentage of results that are higher than 0, meaning that the retention rate is higher at gate_30\n",
    "r1prob = (density_1d['diff']>0).mean()\n",
    "r7prob = (density_7d['diff']>0).mean() \n",
    "\n",
    "print('The probability that the 1-day retention rate is greater when the gate is at level 30 is '+str(r1prob*100)+'%.')\n",
    "print('The probability that the 7-days retention rate is greater when the gate is at level 30 is '+str(r7prob*100)+'%.')"
   ]
  },
  {
   "cell_type": "markdown",
   "metadata": {},
   "source": [
    "## <font color=blue>Final Conclusion\n",
    "\n",
    "<font color=black><br>The results above strongly suggest it is highly probable that the retention rate of users are higher in gate_30 as compared to gate_40.\n",
    "\n",
    "Therefore it can be concluded that if the retention rate were kept high, the gate from level 30 to level 40 should not be moved."
   ]
  }
 ],
 "metadata": {
  "kernelspec": {
   "display_name": "Python 3",
   "language": "python",
   "name": "python3"
  },
  "language_info": {
   "codemirror_mode": {
    "name": "ipython",
    "version": 3
   },
   "file_extension": ".py",
   "mimetype": "text/x-python",
   "name": "python",
   "nbconvert_exporter": "python",
   "pygments_lexer": "ipython3",
   "version": "3.8.8"
  }
 },
 "nbformat": 4,
 "nbformat_minor": 4
}
